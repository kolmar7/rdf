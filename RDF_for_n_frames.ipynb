{
  "nbformat": 4,
  "nbformat_minor": 0,
  "metadata": {
    "colab": {
      "provenance": [],
      "authorship_tag": "ABX9TyPi1JWqPhBTAwAf6EwJn35v",
      "include_colab_link": true
    },
    "kernelspec": {
      "name": "python3",
      "display_name": "Python 3"
    },
    "language_info": {
      "name": "python"
    }
  },
  "cells": [
    {
      "cell_type": "markdown",
      "metadata": {
        "id": "view-in-github",
        "colab_type": "text"
      },
      "source": [
        "<a href=\"https://colab.research.google.com/github/kolmar7/rdf/blob/main/RDF_for_n_frames.ipynb\" target=\"_parent\"><img src=\"https://colab.research.google.com/assets/colab-badge.svg\" alt=\"Open In Colab\"/></a>"
      ]
    },
    {
      "cell_type": "markdown",
      "source": [
        "# Radial distribution function\n",
        "\n",
        "Maria Kolonsky 2025\n",
        "\n",
        "v.0.2.4"
      ],
      "metadata": {
        "id": "eiDNch7Dg8JM"
      }
    },
    {
      "cell_type": "code",
      "source": [
        "from urllib.request import urlopen\n",
        "import numpy as np\n",
        "import matplotlib.pyplot as plt\n",
        "import xml.etree.ElementTree as ET"
      ],
      "metadata": {
        "id": "TrxXkJhEgudd"
      },
      "execution_count": null,
      "outputs": []
    },
    {
      "cell_type": "markdown",
      "source": [
        "Parse XML datafile for  (x,y)  points"
      ],
      "metadata": {
        "id": "FBgLwZ5lhBcu"
      }
    },
    {
      "cell_type": "code",
      "source": [
        "#url = 'https://raw.githubusercontent.com/kolmar7/rdf/refs/heads/main/HaCaT%40pla-gel-CPNW%40PMMA(11x11%2Cx20)_2022-05-30_CellCounter_tile_x001_y002%20(1).xml'\n",
        "url = 'https://raw.githubusercontent.com/kolmar7/rdf/refs/heads/main/CellCounter_xml.xml'\n",
        "#парсинг XML\n",
        "def parsing_xml(xml_path: str, marker_type: int = 1):\n",
        "    tree = ET.parse(xml_path)\n",
        "    root = tree.getroot()\n",
        "    xc, yc, zc = [], [], []\n",
        "    for mtype in root.findall(\".//Marker_Type\"):\n",
        "        t = mtype.findtext(\"Type\")\n",
        "        if not t or int(t.strip()) != marker_type:\n",
        "            continue\n",
        "        for m in mtype.findall(\".//Marker\"):\n",
        "            x = m.findtext(\"MarkerX\")\n",
        "            y = m.findtext(\"MarkerY\")\n",
        "            z = m.findtext(\"MarkerZ\")\n",
        "            if x and y:\n",
        "                xc.append(int(x))\n",
        "                yc.append(int(y))\n",
        "                zc.append(int(z))\n",
        "    return np.asarray(xc, dtype=np.int64), np.asarray(yc, dtype=np.int64), np.asarray(zc, dtype=np.int64)\n",
        "\n",
        "\n",
        "#запуск\n",
        "resp = urlopen(url, timeout=30)\n",
        "X_, Y_, Z_ = parsing_xml(resp, marker_type=1)"
      ],
      "metadata": {
        "id": "x0FqM8zOhETQ"
      },
      "execution_count": null,
      "outputs": []
    },
    {
      "cell_type": "markdown",
      "source": [
        "Get frame"
      ],
      "metadata": {
        "id": "bvDaW9BshOim"
      }
    },
    {
      "cell_type": "code",
      "source": [
        "FRAME = 10\n",
        "mask = Z_== FRAME\n",
        "X = X_[mask]\n",
        "Y = Y_[mask]\n",
        "W = int(X.max()) + 1\n",
        "H = int(Y.max()) + 1\n",
        "\n",
        "# total square\n",
        "S = W * H\n",
        "\n",
        "N =  X.size\n",
        "\n",
        "\n",
        "\n",
        "\n",
        "plt.scatter(X, Y, marker='.')"
      ],
      "metadata": {
        "id": "BdjskAv8hR8_"
      },
      "execution_count": null,
      "outputs": []
    },
    {
      "cell_type": "markdown",
      "source": [
        "Using module numpy to calculate number of area of intersection of a ring and rectangle"
      ],
      "metadata": {
        "id": "2mQsOUzFhWRL"
      }
    },
    {
      "cell_type": "code",
      "source": [
        "def calculate_circle_area(i, j, r):\n",
        "    \"\"\"\n",
        "    Количество пикселей (целочисленных координат) внутри круга\n",
        "    (yy - i)^2 + (xx - j)^2 <= r^2 с учётом границ изображения H×W.\n",
        "    i — индекс строки (y), j — индекс столбца (x). 0-based.\n",
        "    \"\"\"\n",
        "\n",
        "    # вертикальные границы круга, обрезанные окном\n",
        "    y0 = max(0, i - r)\n",
        "    y1 = min(H - 1, i + r)\n",
        "    if y0 > y1:\n",
        "        return 0\n",
        "\n",
        "    # расстояния по вертикали от центра до каждой строки в пределах круга\n",
        "    dy = np.arange(y0, y1 + 1, dtype=np.int64) - i\n",
        "    # горизонтальный полуразброс (целый) для каждой строки\n",
        "    # (сколько колонок вправо/влево от j попадает в круг)\n",
        "    xrad = np.floor(np.sqrt((r * r) - (dy * dy))).astype(np.int64)\n",
        "\n",
        "    # для каждой строки находим допустимый интервал колонок в окне [0, W-1]\n",
        "    left  = np.maximum(0, j - xrad)\n",
        "    right = np.minimum(W - 1, j + xrad)\n",
        "\n",
        "    # длина интервала по колонкам (если right<left, длина 0)\n",
        "    counts = np.maximum(0, right - left + 1)\n",
        "\n",
        "    return int(counts.sum())\n",
        "\n",
        "def calculate_ring_area(i, j, r, dr):\n",
        "  return calculate_circle_area(i, j, r+dr) - calculate_circle_area(i, j, r)\n",
        "\n",
        "i, j = 100, 100\n",
        "r, dr = 200, 30\n",
        "%timeit calculate_ring_area(i, j, r, dr)"
      ],
      "metadata": {
        "id": "hSc3__pJha7C"
      },
      "execution_count": null,
      "outputs": []
    },
    {
      "cell_type": "markdown",
      "source": [
        "Using module numpy to calculate number of points inside the ring"
      ],
      "metadata": {
        "id": "75yXnJ0Dhez_"
      }
    },
    {
      "cell_type": "code",
      "source": [
        "def count_points(cx, cy, r, deltar):\n",
        "  distance2 = (X - cx)*(X - cx) + (Y - cy)*(Y - cy)\n",
        "  r2 = r*r\n",
        "  rdr2 = (r + deltar) * (r + deltar)\n",
        "  mask = (distance2 >= r2) & (distance2 <= rdr2)\n",
        "  count = np.count_nonzero(mask)\n",
        "  return count\n",
        "\n",
        "# пример\n",
        "%time count_points(100, 100, 2000, 30)"
      ],
      "metadata": {
        "id": "VobFX-nfhiKV"
      },
      "execution_count": null,
      "outputs": []
    },
    {
      "cell_type": "markdown",
      "source": [
        "Find density as number of points to square of intersection"
      ],
      "metadata": {
        "id": "yQN6J15MhlPY"
      }
    },
    {
      "cell_type": "code",
      "source": [
        "def density(cx, cy, r, deltar):\n",
        "  count  = count_points(cx, cy, r, deltar)\n",
        "  relative_count = count / N\n",
        "  square = calculate_ring_area(cx, cy, r, deltar)\n",
        "  relative_square = square / S\n",
        "  if square == 0:\n",
        "    rho = 0\n",
        "  else:\n",
        "    rho = count / N  * S / square\n",
        "  return rho\n",
        "\n",
        "#density = np.vectorize(density)\n",
        "\n",
        "# пример\n",
        "%time density(cx=100, cy=100, r=200, deltar=30)"
      ],
      "metadata": {
        "id": "ePiC5m0ghoQj"
      },
      "execution_count": null,
      "outputs": []
    },
    {
      "cell_type": "markdown",
      "source": [
        "Sweep for all possible radius averaged density"
      ],
      "metadata": {
        "id": "OAMnIBPhhrNJ"
      }
    },
    {
      "cell_type": "code",
      "source": [
        "deltar = 30\n",
        "r_max = min(W, H)\n",
        "r_min = 10\n",
        "\n",
        "# geometric (logarythmic) spacing makes more steps at near distances and less steps on far distances.\n",
        "R = np.geomspace(r_min, r_max, num=20)\n",
        "\n",
        "\n",
        "\n",
        "\n",
        "\n",
        "%time g = [np.mean([density(X[i], Y[i], r, dr) for i in range(N)]) for r in R]\n",
        "\n",
        "\n",
        "plt.plot(R, g,'.')\n",
        "plt.axhline(1)\n",
        "#plt.xlim(0, 1400)\n",
        "plt.grid()"
      ],
      "metadata": {
        "id": "Qfoycg0shuSn"
      },
      "execution_count": null,
      "outputs": []
    },
    {
      "cell_type": "markdown",
      "source": [
        "The same for uniform distribution"
      ],
      "metadata": {
        "id": "I2K52n3ehyJr"
      }
    },
    {
      "cell_type": "code",
      "source": [
        "rng = np.random.default_rng(seed=123)\n",
        "Xu = rng.uniform(0, W, size=N)\n",
        "Yu = rng.uniform(0, H, size=N)\n",
        "plt.scatter(Xu, Yu, marker='.')"
      ],
      "metadata": {
        "id": "0aFIySKgh5CS"
      },
      "execution_count": null,
      "outputs": []
    },
    {
      "cell_type": "code",
      "source": [
        "%time gu = [np.mean([density(Xu[i], Yu[i], r, deltar) for i in range(N)]) for r in R]"
      ],
      "metadata": {
        "id": "E4BxurpmiIaA"
      },
      "execution_count": null,
      "outputs": []
    },
    {
      "cell_type": "code",
      "source": [
        "plt.plot(R, gu, label='Uniform')\n",
        "plt.plot(R, g, label='Observed')\n",
        "plt.legend()\n",
        "#plt.xlim(0, 1400)\n",
        "plt.grid()"
      ],
      "metadata": {
        "id": "ObkOlFMyizO9"
      },
      "execution_count": null,
      "outputs": []
    }
  ]
}